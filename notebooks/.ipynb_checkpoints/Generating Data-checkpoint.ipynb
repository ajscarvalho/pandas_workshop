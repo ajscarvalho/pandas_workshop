{
 "cells": [
  {
   "cell_type": "markdown",
   "metadata": {},
   "source": [
    "# Generating Data\n",
    "\n",
    "Let's get going...\n",
    "\n",
    "We start with no data, but let's generate some fake data..."
   ]
  },
  {
   "cell_type": "markdown",
   "metadata": {},
   "source": [
    "As I'm currently working at NOS, let's generate some random EPG Data, and then a fake Activity Log"
   ]
  },
  {
   "cell_type": "markdown",
   "metadata": {},
   "source": [
    "with your active environment, run the following scripts in bin/\n",
    "\n",
    "```   \n",
    "python bin/channel_generator.py -s channelCount   # generates channels                     [default     100   records]\n",
    "python bin/customer_base_generator.py -s users    # generates user base                    [default   10K     records]\n",
    "python bin/epg_program_generator.py -s programs   # generates program metadata             [default   10K     records]\n",
    "python bin/epg_event_generator.py -s days         # generates epg grid (for each Channel)  [default      10      days]\n",
    "python bin/log_generator.py -r rubbishPct -s size # generates an activity log with noise   [default 3M        records] \n",
    "                                                                                           [default      50 % rubbish]\n",
    "```\n",
    "\n",
    "This will create files on the dwh directory inside the project folder.\n",
    "\n",
    "The last script takes about 5 minutes to run and generates a ~600MB File, so reduce the size, if you wish, depending on your machine\n",
    "... and don't forget to erase the files"
   ]
  },
  {
   "cell_type": "markdown",
   "metadata": {},
   "source": [
    "<br><br>\n",
    "# Challenge 1 - Extract\n",
    "\n",
    "Extract Meaningful Data from the Log, preferably in the most efficient way \n",
    "\n",
    "Take every ChangeChannel Action and Write it to a CSV file\n"
   ]
  },
  {
   "cell_type": "markdown",
   "metadata": {},
   "source": [
    "### Cheat Sheet\n",
    "\n",
    "File Location: will depend on current location\n"
   ]
  },
  {
   "cell_type": "code",
   "execution_count": 3,
   "metadata": {},
   "outputs": [
    {
     "name": "stdout",
     "output_type": "stream",
     "text": [
      "D:\\python_virtualenvs\\src\\pandas_workshop\\dwh\\activity.log\n"
     ]
    }
   ],
   "source": [
    "#relative paths\n",
    "import os, sys, inspect\n",
    "\n",
    "currentdir = os.path.dirname(os.path.abspath(inspect.getfile(inspect.currentframe())))\n",
    "parentdir  = os.path.dirname(currentdir)\n",
    "\n",
    "rootdir = parentdir # is it?\n",
    "dwhdir = os.path.join(rootdir, 'dwh')\n",
    "activityFilename = os.path.join(dwhdir, 'activity.log')\n",
    "\n",
    "print(activityFilename)\n"
   ]
  },
  {
   "cell_type": "markdown",
   "metadata": {},
   "source": [
    "#### read file line by line:\n"
   ]
  },
  {
   "cell_type": "code",
   "execution_count": null,
   "metadata": {
    "collapsed": true
   },
   "outputs": [],
   "source": [
    "import io\n",
    "\n",
    "with io.open(filename, \"r\", encoding='utf-8') as file:\n",
    "    for line in file:\n",
    "        do_something(line)"
   ]
  },
  {
   "cell_type": "markdown",
   "metadata": {},
   "source": [
    "#### Lines we're looking for: ChangeChannel\n",
    "\n",
    "**2017-01-02 00:41:28**:carlina.langton.depletion User@**9d587747555e4d19b4915b11c18c276a**: UserAction=**ChangeChannel**(**C-0008**, **E/00904859**, **C/57752**) chickening!always#pestilence\n",
    "\n",
    "\n",
    "(1) Timestamp <br>\n",
    "(2) UserId <br>\n",
    "(3) Action <br>\n",
    "(4) Channel <br>\n",
    "(5) Current Event Id <br>\n",
    "(6) Some Other Id <br>"
   ]
  },
  {
   "cell_type": "code",
   "execution_count": 8,
   "metadata": {},
   "outputs": [
    {
     "name": "stdout",
     "output_type": "stream",
     "text": [
      "017-01-02 00:41:28:\n",
      "9d587747555e4d19b4915b11c18c276a\n",
      "ChangeChannel\n",
      "C-0008\n",
      "E/00904859\n"
     ]
    }
   ],
   "source": [
    "#### a regexp to catch the content of the line\n",
    "\n",
    "import re\n",
    "\n",
    "line = \"2017-01-02 00:41:28:carlina.langton.depletion User@9d587747555e4d19b4915b11c18c276a: UserAction=ChangeChannel(C-0008, E/00904859, C/57752) chickening!always#pestilence\"\n",
    "\n",
    "timestampRE = '^.([\\d\\s:-]+)'\n",
    "userIdRE = 'User@([\\w]+)'\n",
    "userActionRE = 'UserAction=([\\w]+)'\n",
    "changeChannelRE = 'UserAction=ChangeChannel\\(([\\w-]+), ([\\w/]+),'\n",
    "\n",
    "print (re.search(timestampRE, line).group(1))\n",
    "print (re.search(userIdRE, line).group(1))\n",
    "print (re.search(userActionRE, line).group(1))\n",
    "print (re.search(changeChannelRE, line).group(1))\n",
    "print (re.search(changeChannelRE, line).group(2))"
   ]
  },
  {
   "cell_type": "markdown",
   "metadata": {},
   "source": [
    "### Saving in CSV?\n",
    "\n",
    "Using python pandas (at last)\n",
    "\n",
    "\n",
    "#### Create a DataFrame from a list\n",
    "\n",
    "```\n",
    "import pandas as pd\n",
    "\n",
    "df = pd.DataFrame([[1,2], [3,4]], columns=['A', 'B'])\n",
    "```\n",
    "\n",
    "#### Write dataframe to CSV\n",
    "\n",
    "```\n",
    "df.to_csv('filename', sep=',', encoding='utf-8', index=False)\n",
    "```\n",
    "\n",
    "#### Reading Dataframe from CSV\n",
    "\n",
    "```\n",
    "df.read_csv('filename', sep=',', encoding='utf-8', header=False, dtypes=[str, str, int, ...])\n",
    "```"
   ]
  },
  {
   "cell_type": "code",
   "execution_count": null,
   "metadata": {
    "collapsed": true
   },
   "outputs": [],
   "source": []
  }
 ],
 "metadata": {
  "kernelspec": {
   "display_name": "Python 3",
   "language": "python",
   "name": "python3"
  },
  "language_info": {
   "codemirror_mode": {
    "name": "ipython",
    "version": 3
   },
   "file_extension": ".py",
   "mimetype": "text/x-python",
   "name": "python",
   "nbconvert_exporter": "python",
   "pygments_lexer": "ipython3",
   "version": "3.6.1"
  }
 },
 "nbformat": 4,
 "nbformat_minor": 2
}
