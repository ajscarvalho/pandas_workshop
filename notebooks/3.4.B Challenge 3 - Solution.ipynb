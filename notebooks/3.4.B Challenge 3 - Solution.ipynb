{
 "cells": [
  {
   "cell_type": "code",
   "execution_count": 2,
   "metadata": {},
   "outputs": [
    {
     "name": "stdout",
     "output_type": "stream",
     "text": [
      "In : D:\\python_virtualenvs\\src\\pandas_workshop\\dwh\\channel_changes_count.csv\n",
      "In : D:\\python_virtualenvs\\src\\pandas_workshop\\dwh\\channels.csv\n",
      "Out: D:\\python_virtualenvs\\src\\pandas_workshop\\dwh\\top_channels.csv\n"
     ]
    }
   ],
   "source": [
    "#relative paths\n",
    "import os, sys, inspect\n",
    "\n",
    "currentdir = os.path.dirname(os.path.abspath(inspect.getfile(inspect.currentframe())))\n",
    "parentdir  = os.path.dirname(currentdir)\n",
    "\n",
    "rootdir = parentdir # is it?\n",
    "dwhdir = os.path.join(rootdir, 'dwh')\n",
    "\n",
    "channelChangesCountFilename = os.path.join(dwhdir, 'channel_changes_count.csv')\n",
    "channelsRefDataFilename     = os.path.join(dwhdir, 'channels.csv')\n",
    "\n",
    "topChannelsFilename         = os.path.join(dwhdir, 'top_channels.csv')\n",
    "\n",
    "print('In :', channelChangesCountFilename)\n",
    "print('In :', channelsRefDataFilename)\n",
    "\n",
    "print('Out:', topChannelsFilename)"
   ]
  },
  {
   "cell_type": "code",
   "execution_count": 19,
   "metadata": {
    "collapsed": true
   },
   "outputs": [],
   "source": [
    "#other imports\n",
    "import pandas as pd\n",
    "pd.options.display.max_rows = 10\n",
    "pd.options.display.max_colwidth = 180\n",
    "pd.options.display.width = 180"
   ]
  },
  {
   "cell_type": "code",
   "execution_count": 20,
   "metadata": {
    "collapsed": true
   },
   "outputs": [],
   "source": [
    "\n",
    "\n",
    "def read_channel_changes_count_csv(filename):\n",
    "    df = pd.read_csv(filename)\n",
    "    return df\n",
    "\n",
    "\n",
    "def read_channels_ref_data_csv(filename):\n",
    "    df = pd.read_csv(filename, names=['Channel', 'Position', 'Definition', 'Abbrev', 'Name'], dtype={'Position': int} )\n",
    "    return df\n",
    "\n"
   ]
  },
  {
   "cell_type": "code",
   "execution_count": 22,
   "metadata": {},
   "outputs": [
    {
     "name": "stdout",
     "output_type": "stream",
     "text": [
      "36 \n",
      "   Channel   Count\n",
      "0  C-0008  169830\n",
      "100 \n",
      "   Channel  Position Definition Abbrev                                        Name\n",
      "0  C-0008         2         HD  AUZVI  Ageless Underwater Zapped Ves Irritability\n"
     ]
    }
   ],
   "source": [
    "\n",
    "topChannelChanges = read_channel_changes_count_csv(channelChangesCountFilename)\n",
    "channelsRefData   = read_channels_ref_data_csv    (channelsRefDataFilename)\n",
    "\n",
    "print (topChannelChanges.shape[0], \"\\n\", topChannelChanges.head(1))\n",
    "print (channelsRefData.shape[0],   \"\\n\", channelsRefData.head(1))\n"
   ]
  },
  {
   "cell_type": "code",
   "execution_count": 23,
   "metadata": {},
   "outputs": [
    {
     "name": "stdout",
     "output_type": "stream",
     "text": [
      "  Channel   Count  Position Definition Abbrev                                        Name\n",
      "0  C-0008  169830         2         HD  AUZVI  Ageless Underwater Zapped Ves Irritability\n",
      "1  C-0010  139649         7         SD   PKUL                Peeing Know Underpass Lapped\n",
      "2  C-0012  121862         8         SD   YFDO       Yashoda Finest Dispersal Overreaction\n",
      "3  C-0014  103892        10         SD    WPS                       Woolf Peppers Smudged\n",
      "4  C-0016   91501        14         SD   ORTF       Outlined Rippling Tougher Fertilizers\n"
     ]
    }
   ],
   "source": [
    "def join_on_col(dfA, dfB, col):\n",
    "    dfC = dfA.merge(dfB, on=col, how='inner')\n",
    "    return dfC\n",
    "\n"
   ]
  },
  {
   "cell_type": "code",
   "execution_count": 25,
   "metadata": {},
   "outputs": [
    {
     "name": "stdout",
     "output_type": "stream",
     "text": [
      "  Channel   Count  Position Definition Abbrev                                        Name\n",
      "0  C-0008  169830         2         HD  AUZVI  Ageless Underwater Zapped Ves Irritability\n",
      "1  C-0010  139649         7         SD   PKUL                Peeing Know Underpass Lapped\n",
      "2  C-0012  121862         8         SD   YFDO       Yashoda Finest Dispersal Overreaction\n",
      "3  C-0014  103892        10         SD    WPS                       Woolf Peppers Smudged\n",
      "4  C-0016   91501        14         SD   ORTF       Outlined Rippling Tougher Fertilizers\n",
      "\n",
      "  Channel  Position Definition Abbrev                                        Name   Count\n",
      "0  C-0008         2         HD  AUZVI  Ageless Underwater Zapped Ves Irritability  169830\n",
      "1  C-0010         7         SD   PKUL                Peeing Know Underpass Lapped  139649\n",
      "2  C-0012         8         SD   YFDO       Yashoda Finest Dispersal Overreaction  121862\n",
      "3  C-0014        10         SD    WPS                       Woolf Peppers Smudged  103892\n",
      "4  C-0016        14         SD   ORTF       Outlined Rippling Tougher Fertilizers   91501\n"
     ]
    }
   ],
   "source": [
    "topChannels = join_on_col(topChannelChanges, channelsRefData, 'Channel')\n",
    "print (topChannels.head(5))\n",
    "\n",
    "print()\n",
    "\n",
    "topChannels = join_on_col(channelsRefData, topChannelChanges, 'Channel')\n",
    "print (topChannels.head(5))"
   ]
  },
  {
   "cell_type": "code",
   "execution_count": 26,
   "metadata": {
    "collapsed": true
   },
   "outputs": [],
   "source": [
    "# Save dataframe\n",
    "topChannels.to_csv(topChannelsFilename, sep=',', encoding='utf-8', index=False)"
   ]
  },
  {
   "cell_type": "code",
   "execution_count": null,
   "metadata": {
    "collapsed": true
   },
   "outputs": [],
   "source": []
  }
 ],
 "metadata": {
  "kernelspec": {
   "display_name": "Python 3",
   "language": "python",
   "name": "python3"
  },
  "language_info": {
   "codemirror_mode": {
    "name": "ipython",
    "version": 3
   },
   "file_extension": ".py",
   "mimetype": "text/x-python",
   "name": "python",
   "nbconvert_exporter": "python",
   "pygments_lexer": "ipython3",
   "version": "3.6.1"
  }
 },
 "nbformat": 4,
 "nbformat_minor": 2
}
