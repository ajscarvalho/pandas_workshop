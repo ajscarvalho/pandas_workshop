{
 "cells": [
  {
   "cell_type": "markdown",
   "metadata": {},
   "source": [
    "# Index\n",
    "\n",
    "\n",
    "1. Before we start... [Setup necessary python and libs](1 Setup.ipynb)\n",
    "\n",
    "2. Jupyter notebooks  \n",
    "  2.1. [A Short intro](2.1 Short Intro to jupyter notebooks.ipynb)  \n",
    "  2.2. Notes about performance [Random Numbers](2.2 Playing with Random - Performance.ipynb)  \n",
    "\n",
    "3. Digging into data  \n",
    "  3.1. Data setup [Generating Sample Data](3.1 Generating Data.ipynb)  \n",
    "  3.2. Log extraction  \n",
    "    * Challenge 1 [Extract From Log File](3.2.A Challenge 1 - Extract From Log File.ipynb)\n",
    "    * [Solution](3.2.B Challenge 1 - Solution.ipynb)  \n",
    "\n",
    "  -- break --  \n",
    "\n",
    "  3.3. Grouping Data  \n",
    "    * Challenge 2 [Group Information](3.3.A Challenge 2 - Top 10 channels with most activity.ipynb)  \n",
    "    * [Solution](3.3.B Challenge 2 - Solution.ipynb)  \n",
    "\n",
    "  3.4. Joining Data  \n",
    "    * Challenge 3 [Join DataFrames](3.4.A Challenge 3 - Joining - Names of Top 10 channels.ipynb)  \n",
    "    * [Solution](3.4.B Challenge 3 - Solution.ipynb)  \n",
    "\n",
    "  3.5. Recommendations  \n",
    "    * Challenge 4 [Who Watched X also watched Y](3.5.A Challenge 4 - Recommendations.ipynb)  \n",
    "    * [Solution](3.5.B Challenge 4 - Solution.ipynb)  "
   ]
  },
  {
   "cell_type": "code",
   "execution_count": null,
   "metadata": {
    "collapsed": true
   },
   "outputs": [],
   "source": []
  }
 ],
 "metadata": {
  "kernelspec": {
   "display_name": "Python 3",
   "language": "python",
   "name": "python3"
  },
  "language_info": {
   "codemirror_mode": {
    "name": "ipython",
    "version": 3
   },
   "file_extension": ".py",
   "mimetype": "text/x-python",
   "name": "python",
   "nbconvert_exporter": "python",
   "pygments_lexer": "ipython3",
   "version": "3.6.1"
  }
 },
 "nbformat": 4,
 "nbformat_minor": 2
}
