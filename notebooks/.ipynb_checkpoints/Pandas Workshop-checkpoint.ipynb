{
 "cells": [
  {
   "cell_type": "markdown",
   "metadata": {},
   "source": [
    "# Before we start...\n",
    "\n",
    "Download this notebook from https://github.com/ajscarvalho/pandas_workshop\n",
    "\n",
    "it will be needed later to create a random log file so we can begin playing with data..."
   ]
  },
  {
   "cell_type": "markdown",
   "metadata": {},
   "source": [
    "# Setup (debian)\n",
    "\n",
    "# install latest python (3.6), pip3 and virtalenv\n",
    "\n",
    "```\n",
    "sudo apt-get install python3 python3.6 python3-pip\n",
    "sudo pip3 install --upgrade pip\n",
    "sudo pip3 install virtualenv\n",
    "```\n",
    "\n"
   ]
  },
  {
   "cell_type": "markdown",
   "metadata": {},
   "source": [
    "# Create a project and an environment \n",
    "\n",
    "###### (paths are up to you)\n",
    "\n",
    "```\n",
    "cd <project_dir>\n",
    "mkdir <env>\n",
    "virtualenv -p /usr/bin/python3.6 <env>\n",
    "```\n",
    "\n",
    "e.g.\n",
    "```\n",
    "    project_dir = 'pandas_workshop'\n",
    "    env = 'pandas_workshop_env'\n",
    "```\n",
    "\n"
   ]
  },
  {
   "cell_type": "markdown",
   "metadata": {},
   "source": [
    "# Activate the environment\n",
    "\n",
    "```\n",
    "source <env>/bin/activate\n",
    "```\n",
    "\n",
    "###### You just entered in your environment\n",
    "\n",
    "Now packages you install will be just for this environment.\n",
    "Also pip and python will refer to the version you declared with virtualenv.\n",
    "\n",
    "## check it!\n",
    "\n",
    "pip -V\n",
    "\n"
   ]
  },
  {
   "cell_type": "markdown",
   "metadata": {},
   "source": [
    "# install and run python notebooks\n",
    "```\n",
    "pip install jupyter\n",
    "mkdir notebooks\n",
    "jupyter notebook --port 9999 --notebook-dir=notebooks [--no-browser]\n",
    "```\n",
    "\n",
    "You should now have an interactive online coding session, essential for experimentation.\n",
    "\n"
   ]
  },
  {
   "cell_type": "markdown",
   "metadata": {},
   "source": [
    "# Install libs for this workshop\n",
    "```\n",
    "pip install numpy pandas\n",
    "```\n",
    "<font color=red>install dask?</font>\n"
   ]
  },
  {
   "cell_type": "markdown",
   "metadata": {},
   "source": [
    "# Get familiar with python notebooks\n",
    "\n",
    "- create a new python 3 notebook\n",
    "- experiment a bit running some python commands\n",
    "- give a name to the notebook\n",
    "- save it\n",
    "- create cells with different variables\n",
    "- cells can be run in any order, but usually executed in sequence\n"
   ]
  },
  {
   "cell_type": "markdown",
   "metadata": {},
   "source": [
    "<br><br><br><br>\n",
    "## A Short intro into magic jupyter commands"
   ]
  },
  {
   "cell_type": "code",
   "execution_count": 5,
   "metadata": {
    "collapsed": true
   },
   "outputs": [],
   "source": [
    "import time\n",
    "time.sleep(0.5)"
   ]
  },
  {
   "cell_type": "code",
   "execution_count": 8,
   "metadata": {},
   "outputs": [
    {
     "name": "stdout",
     "output_type": "stream",
     "text": [
      "100 ms ± 14.2 µs per loop (mean ± std. dev. of 7 runs, 10 loops each)\n"
     ]
    }
   ],
   "source": [
    "%timeit time.sleep(0.1)"
   ]
  },
  {
   "cell_type": "code",
   "execution_count": 7,
   "metadata": {},
   "outputs": [
    {
     "name": "stdout",
     "output_type": "stream",
     "text": [
      "501 ms ± 18 µs per loop (mean ± std. dev. of 7 runs, 1 loop each)\n"
     ]
    }
   ],
   "source": [
    "%%timeit\n",
    "time.sleep(0.5)"
   ]
  },
  {
   "cell_type": "markdown",
   "metadata": {},
   "source": [
    "<br><br><br><br>\n",
    "## Let's play with Random Number Generation"
   ]
  },
  {
   "cell_type": "code",
   "execution_count": 21,
   "metadata": {},
   "outputs": [],
   "source": [
    "import random\n",
    "\n",
    "def get_random_numbers(minimum, maximum, amount):\n",
    "    numbers = []\n",
    "    for i in range(amount):\n",
    "        numbers.append(random.randint(minimum, maximum))\n",
    "        \n",
    "    return numbers\n"
   ]
  },
  {
   "cell_type": "code",
   "execution_count": 22,
   "metadata": {},
   "outputs": [
    {
     "name": "stdout",
     "output_type": "stream",
     "text": [
      "Test:\n",
      "Random Int[0-10]: 4\n",
      "5 Random Int[0-10]: [3, 5, 5, 6, 7]\n"
     ]
    }
   ],
   "source": [
    "print('Test:')\n",
    "print (\"Random Int[0-10]:\", random.randint(0, 10))\n",
    "print (\"5 Random Int[0-10]:\", get_random_numbers(0, 10, 5))"
   ]
  },
  {
   "cell_type": "code",
   "execution_count": 8,
   "metadata": {},
   "outputs": [
    {
     "name": "stdout",
     "output_type": "stream",
     "text": [
      "1.83 µs ± 52.3 ns per loop (mean ± std. dev. of 7 runs, 1000000 loops each)\n"
     ]
    }
   ],
   "source": [
    "%timeit random.randint(0, 10)\n"
   ]
  },
  {
   "cell_type": "code",
   "execution_count": 9,
   "metadata": {},
   "outputs": [
    {
     "name": "stdout",
     "output_type": "stream",
     "text": [
      "191 µs ± 4.76 µs per loop (mean ± std. dev. of 7 runs, 10000 loops each)\n"
     ]
    }
   ],
   "source": [
    "%timeit get_random_numbers(0, 10, 100)\n"
   ]
  },
  {
   "cell_type": "markdown",
   "metadata": {},
   "source": [
    "<br>\n",
    "<br>\n",
    "<br>\n",
    "<br>\n",
    "# 100 Times Slower as expected. But...\n",
    "<br>\n",
    "<br>\n",
    "<br>\n",
    "<br>"
   ]
  },
  {
   "cell_type": "markdown",
   "metadata": {},
   "source": [
    "## Enters numpy, the lib for number operations in python\n",
    "<br>"
   ]
  },
  {
   "cell_type": "code",
   "execution_count": 10,
   "metadata": {},
   "outputs": [
    {
     "name": "stdout",
     "output_type": "stream",
     "text": [
      "Enter numpy\n",
      "1.79 µs ± 45.8 ns per loop (mean ± std. dev. of 7 runs, 1000000 loops each)\n"
     ]
    }
   ],
   "source": [
    "\n",
    "import numpy as np\n",
    "\n",
    "%timeit np.random.randint(0, 10)"
   ]
  },
  {
   "cell_type": "markdown",
   "metadata": {},
   "source": [
    "### 1 single run - not much of a performance improvement... but let's get 100 random integers"
   ]
  },
  {
   "cell_type": "code",
   "execution_count": 35,
   "metadata": {},
   "outputs": [
    {
     "name": "stdout",
     "output_type": "stream",
     "text": [
      "[7 1 4 9 8 4 8 4 4 6 2 9 1 1 7 0 0 9 9 7 5 2 9 9 0 1 4 7 8 3 9 0 1 9 0 4 4\n",
      " 8 8 3 1 0 6 6 6 5 1 3 2 6 9 1 7 0 6 4 2 6 7 3 3 7 5 0 7 2 4 1 8 7 5 3 0 8\n",
      " 7 3 3 9 5 6 8 8 8 7 2 7 2 2 1 4 7 7 1 3 9 6 8 8 2 1]\n",
      "3.93 µs ± 33.9 ns per loop (mean ± std. dev. of 7 runs, 100000 loops each)\n"
     ]
    }
   ],
   "source": [
    "print(np.random.randint(0, 10, 100))\n",
    "\n",
    "%timeit np.random.randint(0, 10, 100)"
   ]
  },
  {
   "cell_type": "markdown",
   "metadata": {},
   "source": [
    "### Now that's what I call an improvement! 100 random numbers take barelly more than 2x as long\n",
    "<br>\n",
    "<br>\n",
    "#### Also there's a lot more random number generator functions that may be useful "
   ]
  },
  {
   "cell_type": "code",
   "execution_count": 34,
   "metadata": {},
   "outputs": [
    {
     "name": "stdout",
     "output_type": "stream",
     "text": [
      "[159, 175, 78, 157, 150, 29, 8, 66, 39, 151, 48, 19, 96, 210, 132, 18, 102, 144, 210, 11, 27, 97, 57, 135, 138, 36, 44, 105, 69, 168, 32, 47, 197, 113, 177, 267, 58, 32, 119, 672, 24, 158, 161, 65, 3, 144, 9, 39, 43, 26, 156, 39, 196, 58, 181, 60, 83, 264, 38, 368, 42, 29, 109, 98, 195, 43, 5, 393, 199, 100, 77, 63, 96, 33, 3, 11, 17, 61, 121, 39, 106, 95, 113, 151, 46, 535, 13, 128, 39, 32, 51, 6, 15, 17, 98, 182, 299, 45, 222, 131]\n",
      "Mean is 107.65\n"
     ]
    }
   ],
   "source": [
    "integersAccordingToStatisticalDistribution = [int(np.floor(x)) for x in np.random.exponential(100, 100)]\n",
    "print(integersAccordingToStatisticalDistribution)\n",
    "print('Mean is', np.mean(integersAccordingToStatisticalDistribution))"
   ]
  },
  {
   "cell_type": "code",
   "execution_count": null,
   "metadata": {
    "collapsed": true
   },
   "outputs": [],
   "source": []
  }
 ],
 "metadata": {
  "kernelspec": {
   "display_name": "Python 3",
   "language": "python",
   "name": "python3"
  },
  "language_info": {
   "codemirror_mode": {
    "name": "ipython",
    "version": 3
   },
   "file_extension": ".py",
   "mimetype": "text/x-python",
   "name": "python",
   "nbconvert_exporter": "python",
   "pygments_lexer": "ipython3",
   "version": "3.6.1"
  }
 },
 "nbformat": 4,
 "nbformat_minor": 2
}
