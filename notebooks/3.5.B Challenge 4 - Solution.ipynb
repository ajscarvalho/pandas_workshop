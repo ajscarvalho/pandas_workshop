{
 "cells": [
  {
   "cell_type": "code",
   "execution_count": 1,
   "metadata": {},
   "outputs": [
    {
     "name": "stdout",
     "output_type": "stream",
     "text": [
      "In : D:\\python_virtualenvs\\src\\pandas_workshop\\dwh\\channel_changes.csv\n",
      "In : D:\\python_virtualenvs\\src\\pandas_workshop\\dwh\\events.csv\n",
      "In : D:\\python_virtualenvs\\src\\pandas_workshop\\dwh\\programs.csv\n"
     ]
    }
   ],
   "source": [
    "#relative paths\n",
    "import os, sys, inspect\n",
    "\n",
    "currentdir = os.path.dirname(os.path.abspath(inspect.getfile(inspect.currentframe())))\n",
    "parentdir  = os.path.dirname(currentdir)\n",
    "\n",
    "rootdir = parentdir # is it?\n",
    "dwhdir = os.path.join(rootdir, 'dwh')\n",
    "\n",
    "channelChangesFilename      = os.path.join(dwhdir, 'channel_changes.csv')\n",
    "eventsRefDataFilename       = os.path.join(dwhdir, 'events.csv')\n",
    "programsRefDataFilename     = os.path.join(dwhdir, 'programs.csv')\n",
    "\n",
    "\n",
    "print('In :', channelChangesFilename)\n",
    "print('In :', eventsRefDataFilename)\n",
    "print('In :', programsRefDataFilename)\n"
   ]
  },
  {
   "cell_type": "code",
   "execution_count": 2,
   "metadata": {
    "collapsed": true
   },
   "outputs": [],
   "source": [
    "#other imports\n",
    "from datetime import datetime\n",
    "import pandas as pd\n",
    "\n",
    "pd.options.display.max_rows = 10\n",
    "pd.options.display.max_colwidth = 180\n",
    "pd.options.display.width = 180"
   ]
  },
  {
   "cell_type": "code",
   "execution_count": 3,
   "metadata": {
    "collapsed": true
   },
   "outputs": [],
   "source": [
    "#useful functions\n",
    "class Timer(object):\n",
    "\n",
    "    def __init__(self):\n",
    "        self.lastTime = None\n",
    "\n",
    "    def time(self, msg=\"Time passed\", restart=False):\n",
    "        if restart: self.lastTime = None\n",
    "\n",
    "        now = datetime.now()\n",
    "        if self.lastTime:\n",
    "            print (\"{:40s}: {:7.3f}s\".format(msg, (now - self.lastTime).total_seconds()))\n",
    "        \n",
    "        self.lastTime = now\n",
    "\n",
    "perfTimer = Timer()\n"
   ]
  },
  {
   "cell_type": "code",
   "execution_count": 4,
   "metadata": {
    "collapsed": true
   },
   "outputs": [],
   "source": [
    "\n",
    "\n",
    "def read_channel_changes_csv(filename):\n",
    "    df = pd.read_csv(filename,\n",
    "        names=['Timestamp', 'UserId', 'Channel', 'EventId'],\n",
    "        header=0 # when passing names, it's assumed the start of the file as the start of data... \n",
    "                 # file already has headers in row 0 \n",
    "    )\n",
    "    #cut information that we will not need\n",
    "    df = df[['UserId', 'EventId']].copy()\n",
    "    df.drop_duplicates(inplace=True)\n",
    "    return df\n",
    "\n",
    "\n",
    "def read_events_ref_data_csv(filename):\n",
    "    df = pd.read_csv(filename,\n",
    "        names=['EventId', 'ChannelId', 'ProgramId', 'Duration', 'StartDate', 'EndDate'], \n",
    "        dtype={'Position': int} \n",
    "    )\n",
    "    return df\n",
    "\n",
    "\n",
    "def read_programs_ref_data_csv(filename):\n",
    "    df = pd.read_csv(filename, dtype={'SeriesId': str, 'SeriesSeason': str, 'SeriesEpisode': str})\n",
    "    # after looking and checking there are NaN's:\n",
    "    df = df.fillna('')\n",
    "    return df\n"
   ]
  },
  {
   "cell_type": "code",
   "execution_count": 5,
   "metadata": {},
   "outputs": [
    {
     "name": "stdout",
     "output_type": "stream",
     "text": [
      "Reading Channel Changes                 :   2.571s\n",
      "Reading Events Ref Data                 :   0.078s\n",
      "Reading Programs Ref Data               :   0.109s\n",
      "\n",
      "\n",
      "CHANNEL CHANGES: 834917 \n",
      "                              UserId     EventId\n",
      "0  7f98c243497046a086b09a84d68aa0f1  E/00904866\n",
      "\n",
      "\n",
      "EVENTS         : 19434 \n",
      "       EventId ChannelId  ProgramId  Duration            StartDate              EndDate\n",
      "0  E/00904858    C-0008  P_0002384         5  2017-01-01 23:50:00  2017-01-01 23:55:00\n",
      "\n",
      "\n",
      "PROGRAMS       : 10000 \n",
      "    ProgramId ProgramType IsLive                                 ProgramTitle                                     Genres  \\\n",
      "0  P_0000002   RECURRENT         Peta Buccaneer Substantial Tanzania Outlets  health*talkshow*didactic*culturalmagazine   \n",
      "\n",
      "                                                                     Actors                     Directors  Rating  Year  \\\n",
      "0  Guy Fieri*Sally Martin*Annouck Hautbois*Jesse Tyler Ferguson*George Eads  Niamh Sharkey*Junichi Masuda    3.31  2017   \n",
      "\n",
      "                                                           Description SeriesId SeriesSeason SeriesEpisode  \n",
      "0  acn leviticus hardworking arabia discriminate feli humboldt velcro.                                      \n"
     ]
    }
   ],
   "source": [
    "\n",
    "perfTimer.time(restart=True)\n",
    "\n",
    "channelChanges  = read_channel_changes_csv  ( channelChangesFilename)\n",
    "\n",
    "perfTimer.time(\"Reading Channel Changes\")\n",
    "\n",
    "eventsRefData   = read_events_ref_data_csv  (  eventsRefDataFilename)\n",
    "\n",
    "perfTimer.time(\"Reading Events Ref Data\")\n",
    "\n",
    "programsRefData = read_programs_ref_data_csv(programsRefDataFilename)\n",
    "\n",
    "perfTimer.time(\"Reading Programs Ref Data\")\n",
    "\n",
    "print ('\\n\\nCHANNEL CHANGES:',  channelChanges.shape[0], \"\\n\",  channelChanges.head(1))\n",
    "print ('\\n\\nEVENTS         :',   eventsRefData.shape[0], \"\\n\",   eventsRefData.head(1))\n",
    "print ('\\n\\nPROGRAMS       :', programsRefData.shape[0], \"\\n\", programsRefData.head(1))\n"
   ]
  },
  {
   "cell_type": "code",
   "execution_count": 6,
   "metadata": {
    "collapsed": true
   },
   "outputs": [],
   "source": [
    "def join_on_col(dfA, dfB, col):\n",
    "    dfC = dfA.merge(dfB, on=col, how='inner')\n",
    "    return dfC\n",
    "\n"
   ]
  },
  {
   "cell_type": "code",
   "execution_count": 7,
   "metadata": {
    "collapsed": true
   },
   "outputs": [],
   "source": [
    "\n",
    "def get_recommendations(userId, programId):\n",
    "\n",
    "    eventsForProgram         = get_events_for_program(programId)\n",
    "    usersForProgram          = get_users_for_events(eventsForProgram)\n",
    "    eventIdsSeenByUsers      = get_event_ids_for_users(usersForProgram)\n",
    "    otherEventIdsSeenByUsers = remove_event_ids_of_program(eventIdsSeenByUsers, eventsForProgram)\n",
    "    otherEventsSeenByUsers   = join_with_events(otherEventIdsSeenByUsers)\n",
    "    programsSeenByUsers      = get_programs_for_users(otherEventsSeenByUsers, limit=40)\n",
    "    \n",
    "    return programsSeenByUsers\n"
   ]
  },
  {
   "cell_type": "code",
   "execution_count": 39,
   "metadata": {},
   "outputs": [],
   "source": [
    "#get a randomUser()\n",
    "\n",
    "def get_random_user():\n",
    "    return channelChanges.UserId.sample().iloc[0]\n",
    "\n",
    "def get_random_program(): # to guarantee that the event actually exists\n",
    "    change      = channelChanges.sample().iloc[0].to_dict()\n",
    "    eventId     = change.get('EventId')\n",
    "    programId   = eventsRefData[eventsRefData.EventId == eventId].iloc[0].ProgramId\n",
    "    program     = programsRefData[programsRefData.ProgramId == programId] \n",
    "    return program.iloc[0].to_dict()\n",
    "\n"
   ]
  },
  {
   "cell_type": "code",
   "execution_count": 40,
   "metadata": {},
   "outputs": [
    {
     "name": "stdout",
     "output_type": "stream",
     "text": [
      "User 31b0072419f44440b7c33c4a706d2bfa\n",
      "Program {'ProgramId': 'P_0005876', 'ProgramType': 'RECURRENT', 'IsLive': '', 'ProgramTitle': 'Boils Glancing Oa Rash', 'Genres': 'history*politics*romance*gymnastic', 'Actors': 'Chris Broyles*Richard Hammond*Tom Kenny*Sophie Morton*Sally Martin', 'Directors': 'Emmanuelle Fleury', 'Rating': 4.54, 'Year': 2000, 'Description': 'advocacy clashing angrily defile oncology pinche duckula agrees oleg santosh runoff alexei presumed poisoner orangutan.', 'SeriesId': '', 'SeriesSeason': '', 'SeriesEpisode': ''}\n"
     ]
    }
   ],
   "source": [
    "userId = get_random_user()\n",
    "program = get_random_program()\n",
    "\n",
    "print(\"User\", userId)\n",
    "print(\"Program\", program)\n",
    "\n",
    "programId = program.get('ProgramId')"
   ]
  },
  {
   "cell_type": "code",
   "execution_count": 41,
   "metadata": {},
   "outputs": [
    {
     "name": "stdout",
     "output_type": "stream",
     "text": [
      "Program P_0005876 <class 'str'>\n",
      "timing events for program               :   0.004s\n",
      "Found 2 events for that program P_0005876\n"
     ]
    }
   ],
   "source": [
    "\n",
    "def get_events_for_program(programId):\n",
    "    events = eventsRefData[eventsRefData.ProgramId == programId]\n",
    "    return list(events.to_dict()['EventId'].values())\n",
    "\n",
    "print (\"Program\", programId, type(programId))\n",
    "\n",
    "perfTimer.time(restart=True)\n",
    "eventsForProgram = get_events_for_program(programId)\n",
    "perfTimer.time(\"TIMING: events for program\")\n",
    "\n",
    "print (\"Found {} events for that program {}\".format(len(eventsForProgram), programId))\n"
   ]
  },
  {
   "cell_type": "code",
   "execution_count": 42,
   "metadata": {},
   "outputs": [
    {
     "name": "stdout",
     "output_type": "stream",
     "text": [
      "eventList <class 'list'> ['E/00905067', 'E/00915213']\n",
      "get_users_for_events: 1164 changes\n",
      "timing get users for program            :   0.044s\n",
      "1164 users found: e.g.  ['61a8a48035524095b47c4743d99054aa' '372052c289f7451488d05b60e59f7ec4'\n",
      " '290959a61fe74c0a979105e6e8c0ce6f' '46414384e07a496c965e5a5c49135d20'\n",
      " '83378d11fd2349b2be09c8ba6b99d5ae']\n"
     ]
    }
   ],
   "source": [
    "\n",
    "def get_users_for_events(eventList):\n",
    "    print('eventList', type(eventList), eventList)\n",
    "    changes = channelChanges[channelChanges.EventId.isin(eventList)].copy()\n",
    "    print ('get_users_for_events:', changes.shape[0], 'changes')\n",
    "    users = changes.UserId.unique()\n",
    "    return users\n",
    "\n",
    "eventsForProgram = get_events_for_program(programId)\n",
    "\n",
    "perfTimer.time(restart=True)\n",
    "usersForProgram = get_users_for_events(eventsForProgram)\n",
    "perfTimer.time(\"TIMING: get users for program\")\n",
    "\n",
    "print(len(usersForProgram), 'users found: e.g. ', usersForProgram[0:5])"
   ]
  },
  {
   "cell_type": "code",
   "execution_count": 53,
   "metadata": {},
   "outputs": [
    {
     "name": "stdout",
     "output_type": "stream",
     "text": [
      "eventList <class 'list'> ['E/00905067', 'E/00915213']\n",
      "get_users_for_events: 1164 changes\n",
      "Total Activity of Users  417102\n",
      "Total Distinct Events      5890 \n",
      "             Count\n",
      "EventId          \n",
      "E/00922817      1\n",
      "TIMING: get events for users            :   0.123s\n",
      "Completelly unnecessary: Top Events: \n",
      "            Count\n",
      "EventId          \n",
      "E/00905067   1164\n",
      "E/00909334    729\n"
     ]
    }
   ],
   "source": [
    "def get_event_ids_for_users(userList):\n",
    "    \n",
    "    userActivity = channelChanges[channelChanges.UserId.isin(userList)].copy()\n",
    "    print(\"Total Activity of Users {:7d}\".format(userActivity.shape[0]) )\n",
    "    #unqUserActivity = unqUserActivity.drop_duplicates(['UserId', 'EventId']) # already did it at the source\n",
    "    activityByEvent = userActivity.groupby(by='EventId', sort=False).count()\n",
    "    activityByEvent.columns = ['Count'] # rename remaining column (UserId) that will be used to store count to Count\n",
    "    print('Total Distinct Events   {:7d}'.format(activityByEvent.shape[0]), '\\n', activityByEvent.tail(1))\n",
    "    return activityByEvent\n",
    "\n",
    "programEvents     = get_events_for_program(programId)\n",
    "usersForProgram   = get_users_for_events(programEvents)\n",
    "\n",
    "perfTimer.time(restart=True)\n",
    "eventsSeenByUsers = get_event_ids_for_users(usersForProgram)\n",
    "perfTimer.time(\"TIMING: get events for users\")\n",
    "\n",
    "print (\"Completelly unnecessary: Top Events: \")\n",
    "eventsSortedByTopAudience = eventsSeenByUsers.sort_values(by='Count', ascending=False)\n",
    "print(eventsSortedByTopAudience.head(2))"
   ]
  },
  {
   "cell_type": "code",
   "execution_count": 54,
   "metadata": {},
   "outputs": [
    {
     "name": "stdout",
     "output_type": "stream",
     "text": [
      "eventList <class 'list'> ['E/00905067', 'E/00915213']\n",
      "get_users_for_events: 1164 changes\n",
      "Total Activity of Users  417102\n",
      "Total Distinct Events      5890 \n",
      "             Count\n",
      "EventId          \n",
      "E/00922817      1\n",
      "Count    1164\n",
      "Name: E/00905067, dtype: int64\n",
      "TIMING: get events for users            :   0.000s\n",
      "From 5890 events, we're removing 2 eventIds and stayed with 5889 events\n"
     ]
    }
   ],
   "source": [
    "\n",
    "def remove_event_ids_of_program(eventDf, eventsToRemove):\n",
    "    print (eventDf.loc['E/00905067'])\n",
    "    \n",
    "    # try to filter on index with not in - time it\n",
    "    #events = eventDf[ ~eventDf.EventId.isin(eventsToRemove) ] # must filter on index\n",
    "\n",
    "    #alternative - use column instead of index\n",
    "    eventsNoIndex = eventDf.reset_index()\n",
    "    events = eventsNoIndex[ ~eventsNoIndex.EventId.isin(eventsToRemove) ] # must filter on index\n",
    "    \n",
    "    return events\n",
    "\n",
    "eventsForProgram  = get_events_for_program(programId)\n",
    "usersForProgram   = get_users_for_events(eventsForProgram)\n",
    "eventsSeenByUsers = get_event_ids_for_users(usersForProgram)\n",
    "\n",
    "perfTimer.time(restart=True)\n",
    "otherEvents       = remove_event_ids_of_program(eventsSeenByUsers, eventsForProgram)\n",
    "perfTimer.time(\"TIMING: get events for users\")\n",
    "\n",
    "print (\"From {} events, we're removing {} eventIds and stayed with {} events\".format(\n",
    "    eventsSeenByUsers.shape[0], len(eventsForProgram), otherEvents.shape[0])\n",
    ")"
   ]
  },
  {
   "cell_type": "code",
   "execution_count": 65,
   "metadata": {},
   "outputs": [
    {
     "name": "stdout",
     "output_type": "stream",
     "text": [
      "eventList <class 'list'> ['E/00905067', 'E/00915213']\n",
      "get_users_for_events: 1164 changes\n",
      "Total Activity of Users  417102\n",
      "Total Distinct Events      5890 \n",
      "             Count\n",
      "EventId          \n",
      "E/00922817      1\n",
      "Count    1164\n",
      "Name: E/00905067, dtype: int64\n",
      "TIMING: get events for users            :   0.016s\n",
      "X-Check 5889 to 5889\n",
      "Dataframe Check\n",
      "       EventId  Count ChannelId  ProgramId  Duration            StartDate              EndDate\n",
      "0  E/00904866     57    C-0016  P_0008328        30  2017-01-01 23:45:00  2017-01-02 00:15:00\n",
      "1  E/00904873    115    C-0031  P_0003056       180  2017-01-01 22:30:00  2017-01-02 01:30:00\n",
      "2  E/00904872    130    C-0026  P_0009917       120  2017-01-01 23:15:00  2017-01-02 01:15:00\n",
      "3  E/00904859    145    C-0008  P_0009235        30  2017-01-01 23:55:00  2017-01-02 00:25:00\n"
     ]
    }
   ],
   "source": [
    "\n",
    "def join_with_events(eventIdAudience):\n",
    "    return join_on_col(eventIdAudience, eventsRefData, 'EventId')\n",
    "\n",
    "eventsForProgram         = get_events_for_program(programId)\n",
    "usersForProgram          = get_users_for_events(eventsForProgram)\n",
    "eventIdsSeenByUsers      = get_event_ids_for_users(usersForProgram)\n",
    "otherEventIdsSeenByUsers = remove_event_ids_of_program(eventIdsSeenByUsers, eventsForProgram)\n",
    "\n",
    "perfTimer.time(restart=True)\n",
    "otherEventsSeenByUsers   = join_with_events(otherEventIdsSeenByUsers)\n",
    "perfTimer.time(\"TIMING: get events for users\")\n",
    "\n",
    "print(\"X-Check\", otherEventIdsSeenByUsers.shape[0], 'to', otherEventsSeenByUsers.shape[0])\n",
    "print(\"Dataframe Check\\n\", otherEventsSeenByUsers.head(4))\n"
   ]
  },
  {
   "cell_type": "code",
   "execution_count": 87,
   "metadata": {},
   "outputs": [
    {
     "name": "stdout",
     "output_type": "stream",
     "text": [
      "eventList <class 'list'> ['E/00905067', 'E/00915213']\n",
      "get_users_for_events: 1164 changes\n",
      "Total Activity of Users  417102\n",
      "Total Distinct Events      5890 \n",
      "             Count\n",
      "EventId          \n",
      "E/00922817      1\n",
      "Count    1164\n",
      "Name: E/00905067, dtype: int64\n",
      "TIMING: get all programs for users      :   0.012s\n",
      "4445 are all programs\n",
      "TIMING: get some programs for users     :   0.011s\n",
      "40 are some programs\n"
     ]
    }
   ],
   "source": [
    "def get_programs_for_users(events, limit=None):\n",
    "    #join with events to get programId\n",
    "    summary = events[['ProgramId', 'Count']]\n",
    "    programs = summary.groupby('ProgramId', sort=False).sum()\n",
    "    if limit:\n",
    "        programs.sort_values(by=\"Count\", ascending=False, inplace=True)\n",
    "        programs = programs.head(limit)\n",
    "    \n",
    "    programs = pd.merge(\n",
    "        left=programs,         left_index=True,\n",
    "        right=programsRefData, right_on='ProgramId'\n",
    "    )\n",
    "    \n",
    "    if not limit:\n",
    "        programs.sort_values(by=\"Count\", ascending=False, inplace=True)\n",
    "        \n",
    "    return programs\n",
    "\n",
    "eventsForProgram         = get_events_for_program(programId)\n",
    "usersForProgram          = get_users_for_events(eventsForProgram)\n",
    "eventIdsSeenByUsers      = get_event_ids_for_users(usersForProgram)\n",
    "otherEventIdsSeenByUsers = remove_event_ids_of_program(eventIdsSeenByUsers, eventsForProgram)\n",
    "otherEventsSeenByUsers   = join_with_events(otherEventIdsSeenByUsers)\n",
    "\n",
    "perfTimer.time(restart=True)\n",
    "programsSeenByUsers      = get_programs_for_users(otherEventsSeenByUsers)\n",
    "perfTimer.time(\"TIMING: get all programs for users\")\n",
    "\n",
    "print(programsSeenByUsers.shape[0], 'are all programs')\n",
    "\n",
    "perfTimer.time(restart=True)\n",
    "programsSeenByUsers      = get_programs_for_users(otherEventsSeenByUsers, limit=40)\n",
    "perfTimer.time(\"TIMING: get some programs for users\")\n",
    "\n",
    "print(programsSeenByUsers.shape[0], 'are some programs')\n"
   ]
  },
  {
   "cell_type": "code",
   "execution_count": 93,
   "metadata": {},
   "outputs": [
    {
     "name": "stdout",
     "output_type": "stream",
     "text": [
      "11.6 ms ± 47.3 µs per loop (mean ± std. dev. of 7 runs, 100 loops each)\n"
     ]
    }
   ],
   "source": [
    "\n",
    "%timeit get_programs_for_users(otherEventsSeenByUsers)\n"
   ]
  },
  {
   "cell_type": "code",
   "execution_count": 94,
   "metadata": {},
   "outputs": [
    {
     "name": "stdout",
     "output_type": "stream",
     "text": [
      "7.26 ms ± 52.2 µs per loop (mean ± std. dev. of 7 runs, 100 loops each)\n"
     ]
    }
   ],
   "source": [
    "\n",
    "%timeit get_programs_for_users(otherEventsSeenByUsers, limit=40)\n"
   ]
  },
  {
   "cell_type": "code",
   "execution_count": 92,
   "metadata": {},
   "outputs": [
    {
     "name": "stdout",
     "output_type": "stream",
     "text": [
      "      ProgramId  Count\n",
      "3644  P_0003646   1119\n",
      "2593  P_0002595   1035\n",
      "7399  P_0007401    954\n",
      "5191  P_0005193    903\n",
      "2225  P_0002227    860\n",
      "...         ...    ...\n",
      "889   P_0000891    679\n",
      "2902  P_0002904    675\n",
      "5025  P_0005027    675\n",
      "832   P_0000834    669\n",
      "7483  P_0007485    668\n",
      "\n",
      "[40 rows x 2 columns]\n"
     ]
    }
   ],
   "source": [
    "programs = get_programs_for_users(otherEventsSeenByUsers)\n",
    "print(programs[['ProgramId','Count']].head(40)) #oops - needs sort"
   ]
  },
  {
   "cell_type": "code",
   "execution_count": 91,
   "metadata": {},
   "outputs": [
    {
     "name": "stdout",
     "output_type": "stream",
     "text": [
      "      ProgramId  Count\n",
      "3644  P_0003646   1119\n",
      "2593  P_0002595   1035\n",
      "7399  P_0007401    954\n",
      "5191  P_0005193    903\n",
      "2225  P_0002227    860\n",
      "...         ...    ...\n",
      "889   P_0000891    679\n",
      "2902  P_0002904    675\n",
      "5025  P_0005027    675\n",
      "832   P_0000834    669\n",
      "7483  P_0007485    668\n",
      "\n",
      "[40 rows x 2 columns]\n"
     ]
    }
   ],
   "source": [
    "programs = get_programs_for_users(otherEventsSeenByUsers, limit=40)\n",
    "print(programs[['ProgramId','Count']].head(40))"
   ]
  },
  {
   "cell_type": "code",
   "execution_count": 95,
   "metadata": {},
   "outputs": [
    {
     "name": "stdout",
     "output_type": "stream",
     "text": [
      "eventList <class 'list'> ['E/00905067', 'E/00915213']\n",
      "get_users_for_events: 1164 changes\n",
      "Total Activity of Users  417102\n",
      "Total Distinct Events      5890 \n",
      "             Count\n",
      "EventId          \n",
      "E/00922817      1\n",
      "Count    1164\n",
      "Name: E/00905067, dtype: int64\n",
      "TIMING: recommendation                  :   0.247s\n"
     ]
    }
   ],
   "source": [
    "\n",
    "perfTimer.time(restart=True)\n",
    "\n",
    "eventsForProgram         = get_events_for_program(programId)\n",
    "usersForProgram          = get_users_for_events(eventsForProgram)\n",
    "eventIdsSeenByUsers      = get_event_ids_for_users(usersForProgram)\n",
    "otherEventIdsSeenByUsers = remove_event_ids_of_program(eventIdsSeenByUsers, eventsForProgram)\n",
    "otherEventsSeenByUsers   = join_with_events(otherEventIdsSeenByUsers)\n",
    "programsSeenByUsers      = get_programs_for_users(otherEventsSeenByUsers, limit=40)\n",
    "\n",
    "perfTimer.time(\"TIMING: recommendation\")\n"
   ]
  },
  {
   "cell_type": "code",
   "execution_count": null,
   "metadata": {
    "collapsed": true
   },
   "outputs": [],
   "source": []
  }
 ],
 "metadata": {
  "kernelspec": {
   "display_name": "Python 3",
   "language": "python",
   "name": "python3"
  },
  "language_info": {
   "codemirror_mode": {
    "name": "ipython",
    "version": 3
   },
   "file_extension": ".py",
   "mimetype": "text/x-python",
   "name": "python",
   "nbconvert_exporter": "python",
   "pygments_lexer": "ipython3",
   "version": "3.6.1"
  }
 },
 "nbformat": 4,
 "nbformat_minor": 2
}
