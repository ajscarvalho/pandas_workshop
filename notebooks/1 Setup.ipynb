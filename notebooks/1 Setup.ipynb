{
 "cells": [
  {
   "cell_type": "markdown",
   "metadata": {},
   "source": [
    "# Before we start...\n",
    "\n",
    "Download this notebook from https://github.com/ajscarvalho/pandas_workshop\n",
    "\n",
    "it will be needed later to create a random log file so we can begin playing with data..."
   ]
  },
  {
   "cell_type": "markdown",
   "metadata": {},
   "source": [
    "# Setup (debian)\n",
    "\n",
    "# install latest python (3.6), pip3 and virtalenv\n",
    "\n",
    "```\n",
    "sudo apt-get install python3 python3.6 python3-pip\n",
    "sudo pip3 install --upgrade pip\n",
    "sudo pip3 install virtualenv\n",
    "```\n",
    "\n"
   ]
  },
  {
   "cell_type": "markdown",
   "metadata": {},
   "source": [
    "# Create a project and an environment \n",
    "\n",
    "###### (paths are up to you)\n",
    "\n",
    "```\n",
    "cd <project_dir>\n",
    "mkdir <env>\n",
    "virtualenv -p /usr/bin/python3.6 <env>\n",
    "```\n",
    "\n",
    "e.g.\n",
    "```\n",
    "    project_dir = 'pandas_workshop'\n",
    "    env = 'pandas_workshop_env'\n",
    "```\n",
    "\n"
   ]
  },
  {
   "cell_type": "markdown",
   "metadata": {},
   "source": [
    "# Activate the environment\n",
    "\n",
    "```\n",
    "source <env>/bin/activate\n",
    "```\n",
    "\n",
    "###### You just entered in your environment\n",
    "\n",
    "Now packages you install will be just for this environment.\n",
    "Also pip and python will refer to the version you declared with virtualenv.\n",
    "\n",
    "## check it!\n",
    "\n",
    "pip -V\n",
    "\n"
   ]
  },
  {
   "cell_type": "markdown",
   "metadata": {},
   "source": [
    "# install and run python notebooks\n",
    "```\n",
    "pip install jupyter\n",
    "mkdir notebooks\n",
    "jupyter notebook --port 9999 --notebook-dir=notebooks [--no-browser]\n",
    "```\n",
    "\n",
    "You should now have an interactive online coding session, essential for experimentation.\n",
    "\n"
   ]
  },
  {
   "cell_type": "markdown",
   "metadata": {},
   "source": [
    "# Install libs for this workshop\n",
    "```\n",
    "pip install numpy pandas\n",
    "```\n",
    "<font color=red>install dask?</font>\n"
   ]
  },
  {
   "cell_type": "code",
   "execution_count": null,
   "metadata": {
    "collapsed": true
   },
   "outputs": [],
   "source": []
  }
 ],
 "metadata": {
  "kernelspec": {
   "display_name": "Python 3",
   "language": "python",
   "name": "python3"
  },
  "language_info": {
   "codemirror_mode": {
    "name": "ipython",
    "version": 3
   },
   "file_extension": ".py",
   "mimetype": "text/x-python",
   "name": "python",
   "nbconvert_exporter": "python",
   "pygments_lexer": "ipython3",
   "version": "3.6.1"
  }
 },
 "nbformat": 4,
 "nbformat_minor": 2
}
