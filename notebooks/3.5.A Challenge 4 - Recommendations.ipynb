{
 "cells": [
  {
   "cell_type": "markdown",
   "metadata": {},
   "source": [
    "<br><br>\n",
    "# Challenge 4 - Recommendations\n",
    "\n",
    "Given an User and a Program, see what other programs can be recommended, based on cross analysis (the program may not have already been seen by the Given User, Also User own stats, should not count)\n",
    "\n",
    "return a list of events (for the selected programs) and the crowd for each\n",
    "\n",
    "Print a Table of Relevant Data"
   ]
  },
  {
   "cell_type": "markdown",
   "metadata": {},
   "source": [
    "### Cheat Sheet\n",
    "\n",
    "File Location: will depend on current location\n"
   ]
  },
  {
   "cell_type": "code",
   "execution_count": 1,
   "metadata": {},
   "outputs": [
    {
     "name": "stdout",
     "output_type": "stream",
     "text": [
      "D:\\python_virtualenvs\\src\\pandas_workshop\\dwh\\channel_changes.csv\n",
      "D:\\python_virtualenvs\\src\\pandas_workshop\\dwh\\events.csv\n",
      "D:\\python_virtualenvs\\src\\pandas_workshop\\dwh\\programs.csv\n"
     ]
    }
   ],
   "source": [
    "#relative paths\n",
    "import os, sys, inspect\n",
    "\n",
    "currentdir = os.path.dirname(os.path.abspath(inspect.getfile(inspect.currentframe())))\n",
    "parentdir  = os.path.dirname(currentdir)\n",
    "\n",
    "rootdir = parentdir # is it?\n",
    "dwhdir = os.path.join(rootdir, 'dwh')\n",
    "channelChangesFilename = os.path.join(dwhdir, 'channel_changes.csv')\n",
    "eventsRefFilename      = os.path.join(dwhdir, 'events.csv')\n",
    "programsRefFilename    = os.path.join(dwhdir, 'programs.csv')\n",
    "\n",
    "print(channelChangesFilename)\n",
    "print(eventsRefFilename)\n",
    "print(programsRefFilename)"
   ]
  },
  {
   "cell_type": "markdown",
   "metadata": {},
   "source": [
    "### Create/ Read / Write Dataframe (recap)\n",
    "\n",
    "#### Create a DataFrame from a list\n",
    "\n",
    "```\n",
    "import pandas as pd\n",
    "\n",
    "df = pd.DataFrame([[1,2], [3,4]], columns=['A', 'B'])\n",
    "```\n",
    "\n",
    "#### Write dataframe to CSV\n",
    "\n",
    "```\n",
    "df.to_csv('filename', sep=',', encoding='utf-8', index=False)\n",
    "```\n",
    "\n",
    "#### Reading Dataframe from CSV\n",
    "\n",
    "```\n",
    "df.read_csv('filename', sep=',', encoding='utf-8', header=False, dtypes=[str, str, int, ...])\n",
    "```"
   ]
  },
  {
   "cell_type": "markdown",
   "metadata": {},
   "source": [
    "\n",
    "### Quickly Inspecting Dataframe\n",
    "`df.head(numberOfLines)`\n",
    "\n",
    "`df.tail(numberOfLines)`\n"
   ]
  },
  {
   "cell_type": "markdown",
   "metadata": {
    "collapsed": true
   },
   "source": [
    "### Joining Dataframe\n"
   ]
  },
  {
   "cell_type": "code",
   "execution_count": 31,
   "metadata": {
    "collapsed": true
   },
   "outputs": [],
   "source": [
    "import pandas\n",
    "\n"
   ]
  },
  {
   "cell_type": "code",
   "execution_count": 32,
   "metadata": {
    "collapsed": true
   },
   "outputs": [],
   "source": [
    "pandas.DataFrame.merge*?"
   ]
  },
  {
   "cell_type": "code",
   "execution_count": 33,
   "metadata": {
    "collapsed": true
   },
   "outputs": [],
   "source": [
    "pandas.DataFrame.join*?"
   ]
  },
  {
   "cell_type": "code",
   "execution_count": 34,
   "metadata": {
    "collapsed": true
   },
   "outputs": [],
   "source": [
    "# dfC = dfA.join(dfB, col) assumes both columns exist on same dataframe, or joins by index\n",
    "pandas.DataFrame.join?"
   ]
  },
  {
   "cell_type": "code",
   "execution_count": 35,
   "metadata": {
    "collapsed": true
   },
   "outputs": [],
   "source": [
    "#dfc = dfa.merge(dfB, how=inner|outer|left|right on=Columns left_on=LeftCol, right_on=rightCol) ... <- more powerful\n",
    "pandas.DataFrame.merge?"
   ]
  },
  {
   "cell_type": "markdown",
   "metadata": {},
   "source": [
    "## Channel Changes Dataframe sample\n",
    "```\n",
    "I  Channel  \n",
    "0  C-0016 \n",
    "```"
   ]
  },
  {
   "cell_type": "markdown",
   "metadata": {},
   "source": [
    "## Event RefData Dataframe sample\n",
    "```\n",
    "I  Channel \n",
    "0  C-0008  \n",
    "```"
   ]
  },
  {
   "cell_type": "markdown",
   "metadata": {
    "collapsed": true
   },
   "source": [
    "## Program RefData Dataframe sample\n",
    "```\n",
    "I  Channel  \n",
    "0  C-0008   \n",
    "```"
   ]
  },
  {
   "cell_type": "code",
   "execution_count": null,
   "metadata": {
    "collapsed": true
   },
   "outputs": [],
   "source": []
  }
 ],
 "metadata": {
  "kernelspec": {
   "display_name": "Python 3",
   "language": "python",
   "name": "python3"
  },
  "language_info": {
   "codemirror_mode": {
    "name": "ipython",
    "version": 3
   },
   "file_extension": ".py",
   "mimetype": "text/x-python",
   "name": "python",
   "nbconvert_exporter": "python",
   "pygments_lexer": "ipython3",
   "version": "3.6.1"
  }
 },
 "nbformat": 4,
 "nbformat_minor": 2
}
