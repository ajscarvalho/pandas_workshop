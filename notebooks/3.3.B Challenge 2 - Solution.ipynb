{
 "cells": [
  {
   "cell_type": "code",
   "execution_count": 2,
   "metadata": {},
   "outputs": [
    {
     "name": "stdout",
     "output_type": "stream",
     "text": [
      "In : D:\\python_virtualenvs\\src\\pandas_workshop\\dwh\\channel_changes.csv\n",
      "Out: D:\\python_virtualenvs\\src\\pandas_workshop\\dwh\\channel_changes_count.csv\n"
     ]
    }
   ],
   "source": [
    "#relative paths\n",
    "import os, sys, inspect\n",
    "\n",
    "currentdir = os.path.dirname(os.path.abspath(inspect.getfile(inspect.currentframe())))\n",
    "parentdir  = os.path.dirname(currentdir)\n",
    "\n",
    "rootdir = parentdir # is it?\n",
    "dwhdir = os.path.join(rootdir, 'dwh')\n",
    "\n",
    "channelChangesFilename = os.path.join(dwhdir, 'channel_changes.csv')\n",
    "channelChangesCountFilename = os.path.join(dwhdir, 'channel_changes_count.csv')\n",
    "\n",
    "print('In :', channelChangesFilename)\n",
    "print('Out:', channelChangesCountFilename)"
   ]
  },
  {
   "cell_type": "code",
   "execution_count": 1,
   "metadata": {
    "collapsed": true
   },
   "outputs": [],
   "source": [
    "#other imports\n",
    "import pandas as pd\n",
    "\n"
   ]
  },
  {
   "cell_type": "code",
   "execution_count": 8,
   "metadata": {
    "collapsed": true
   },
   "outputs": [],
   "source": [
    "\n",
    "\n",
    "def read_channel_changes_csv(filename):\n",
    "    df = pd.read_csv(filename)\n",
    "    return df\n",
    "#    print(df.head())\n",
    "    \n"
   ]
  },
  {
   "cell_type": "code",
   "execution_count": 21,
   "metadata": {},
   "outputs": [
    {
     "name": "stdout",
     "output_type": "stream",
     "text": [
      "1.17 s ± 20.2 ms per loop (mean ± std. dev. of 7 runs, 1 loop each)\n"
     ]
    }
   ],
   "source": [
    "\n",
    "channelChanges = read_channel_changes_csv(channelChangesFilename)\n",
    "\n"
   ]
  },
  {
   "cell_type": "code",
   "execution_count": 23,
   "metadata": {
    "collapsed": true
   },
   "outputs": [],
   "source": [
    "def group_then_count(df, col, sort=True):\n",
    "    dfGroup = df[[col]].copy()\n",
    "    dfGroup['Count'] = 0\n",
    "    dfCount = dfGroup.groupby(by=col, sort=sort).count()\n",
    "    return dfCount\n"
   ]
  },
  {
   "cell_type": "code",
   "execution_count": 28,
   "metadata": {},
   "outputs": [
    {
     "name": "stdout",
     "output_type": "stream",
     "text": [
      "          Count\n",
      "Channel        \n",
      "C-0008   169830\n",
      "C-0010   139649\n",
      "C-0012   121862\n",
      "C-0014   103892\n",
      "C-0016    91501\n",
      "C-0017    72332\n",
      "C-0021    51147\n",
      "C-0026    47155\n",
      "C-0031    37165\n",
      "C-0033    31770\n",
      "          Count\n",
      "Channel        \n",
      "C-0016    91501\n",
      "C-0031    37165\n",
      "C-0026    47155\n",
      "C-0008   169830\n",
      "C-0010   139649\n",
      "C-0033    31770\n",
      "C-0017    72332\n",
      "C-0012   121862\n",
      "C-0042    15583\n",
      "C-0014   103892\n",
      "          Count\n",
      "Channel        \n",
      "C-0008   169830\n",
      "C-0010   139649\n",
      "C-0012   121862\n",
      "C-0014   103892\n",
      "C-0016    91501\n",
      "C-0017    72332\n",
      "C-0021    51147\n",
      "C-0026    47155\n",
      "C-0031    37165\n",
      "C-0033    31770\n",
      "84.4 ms ± 3.21 ms per loop (mean ± std. dev. of 7 runs, 10 loops each)\n",
      "73.1 ms ± 362 µs per loop (mean ± std. dev. of 7 runs, 10 loops each)\n",
      "74.4 ms ± 410 µs per loop (mean ± std. dev. of 7 runs, 10 loops each)\n"
     ]
    }
   ],
   "source": [
    "print ( group_then_count(channelChanges, 'Channel'       ).head(10)     )\n",
    "print ( group_then_count(channelChanges, 'Channel', False).head(10)     )\n",
    "print ( group_then_count(channelChanges, 'Channel', False).nlargest(10, 'Count') )\n",
    "\n",
    "%timeit group_then_count(channelChanges, 'Channel').head(10)\n",
    "%timeit group_then_count(channelChanges, 'Channel', False).head(10)\n",
    "%timeit group_then_count(channelChanges, 'Channel', False).nlargest(10, 'Count')\n"
   ]
  },
  {
   "cell_type": "code",
   "execution_count": 30,
   "metadata": {
    "collapsed": true
   },
   "outputs": [],
   "source": [
    "# Save dataframe\n",
    "df = group_then_count(channelChanges, 'Channel')\n",
    "df.reset_index(inplace=True) # Channel index is reinserted as a column and index is recreated from 0\n",
    "df.to_csv(channelChangesCountFilename, sep=',', encoding='utf-8', index=False)"
   ]
  },
  {
   "cell_type": "code",
   "execution_count": null,
   "metadata": {
    "collapsed": true
   },
   "outputs": [],
   "source": []
  }
 ],
 "metadata": {
  "kernelspec": {
   "display_name": "Python 3",
   "language": "python",
   "name": "python3"
  },
  "language_info": {
   "codemirror_mode": {
    "name": "ipython",
    "version": 3
   },
   "file_extension": ".py",
   "mimetype": "text/x-python",
   "name": "python",
   "nbconvert_exporter": "python",
   "pygments_lexer": "ipython3",
   "version": "3.6.1"
  }
 },
 "nbformat": 4,
 "nbformat_minor": 2
}
