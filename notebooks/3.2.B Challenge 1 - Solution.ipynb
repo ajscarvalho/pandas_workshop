{
 "cells": [
  {
   "cell_type": "code",
   "execution_count": 41,
   "metadata": {},
   "outputs": [
    {
     "name": "stdout",
     "output_type": "stream",
     "text": [
      "In : D:\\python_virtualenvs\\src\\pandas_workshop\\dwh\\activity.log\n",
      "Out: D:\\python_virtualenvs\\src\\pandas_workshop\\dwh\\channel_changes.csv\n"
     ]
    }
   ],
   "source": [
    "#relative paths\n",
    "import os, sys, inspect\n",
    "\n",
    "currentdir = os.path.dirname(os.path.abspath(inspect.getfile(inspect.currentframe())))\n",
    "parentdir  = os.path.dirname(currentdir)\n",
    "\n",
    "rootdir = parentdir # is it?\n",
    "dwhdir = os.path.join(rootdir, 'dwh')\n",
    "\n",
    "activityFilename  = os.path.join(dwhdir, 'activity.log')\n",
    "dataframeFilename = os.path.join(dwhdir, 'channel_changes.csv')\n",
    "\n",
    "print('In :', activityFilename)\n",
    "print('Out:', dataframeFilename)"
   ]
  },
  {
   "cell_type": "code",
   "execution_count": 2,
   "metadata": {
    "collapsed": true
   },
   "outputs": [],
   "source": [
    "#other imports\n",
    "import io\n",
    "import re\n",
    "import pandas as pd\n",
    "\n"
   ]
  },
  {
   "cell_type": "code",
   "execution_count": 30,
   "metadata": {
    "collapsed": true
   },
   "outputs": [],
   "source": [
    "\n",
    "\n",
    "def get_good_lines(filename, lineFilterStr):\n",
    "    data = []\n",
    "    with io.open(filename, \"r\", encoding='utf-8') as file:\n",
    "        for line in file:\n",
    "            isMatch = filter_line(line, lineFilterStr)\n",
    "            if isMatch:\n",
    "                data.append(line)\n",
    "    \n",
    "    return data\n",
    "\n",
    "\n"
   ]
  },
  {
   "cell_type": "code",
   "execution_count": 31,
   "metadata": {
    "collapsed": true
   },
   "outputs": [],
   "source": [
    "\n",
    "\n",
    "\n",
    "def filter_line(line, filterStr):\n",
    "    return filterStr in line\n",
    "\n",
    "\n"
   ]
  },
  {
   "cell_type": "code",
   "execution_count": 32,
   "metadata": {},
   "outputs": [
    {
     "name": "stdout",
     "output_type": "stream",
     "text": [
      "Process took 1.586365 seconds\n"
     ]
    }
   ],
   "source": [
    "from datetime import datetime # another way to measure\n",
    "\n",
    "startTS = datetime.now()\n",
    "changeChannelLines = get_good_lines(activityFilename, 'Action=ChangeChannel')\n",
    "\n",
    "print('Process took',  (datetime.now() - startTS).total_seconds(), 'seconds')"
   ]
  },
  {
   "cell_type": "code",
   "execution_count": 33,
   "metadata": {},
   "outputs": [
    {
     "name": "stdout",
     "output_type": "stream",
     "text": [
      "998971 lines\n"
     ]
    }
   ],
   "source": [
    "print(len(changeChannelLines), 'lines') # about 1M lines extracted from a 184MB file in 1.5s"
   ]
  },
  {
   "cell_type": "code",
   "execution_count": 34,
   "metadata": {},
   "outputs": [
    {
     "name": "stdout",
     "output_type": "stream",
     "text": [
      "('2017-01-02 00:00:00', '7f98c243497046a086b09a84d68aa0f1', 'C-0016', 'E/00904866')\n"
     ]
    }
   ],
   "source": [
    "#now we can apply regexps - compile them beforehand\n",
    "userRE = re.compile('User@([\\w]+)')\n",
    "changeChannelRE = re.compile('UserAction=ChangeChannel\\(([\\w-]+), ([\\w/]+),')\n",
    "\n",
    "def extract_features(line):\n",
    "    ts = line[0:19]\n",
    "    user = userRE.search(line).group(1)\n",
    "    changeChannel = changeChannelRE.search(line)\n",
    "    channel = changeChannel.group(1)\n",
    "    event = changeChannel.group(2)\n",
    "    return (ts, user, channel, event)\n",
    "    \n",
    "#Test it\n",
    "print (extract_features(changeChannelLines[0]))\n"
   ]
  },
  {
   "cell_type": "code",
   "execution_count": 35,
   "metadata": {},
   "outputs": [
    {
     "name": "stdout",
     "output_type": "stream",
     "text": [
      "Process took 3.053912 seconds\n"
     ]
    }
   ],
   "source": [
    "#extract everything to a table (of sorts)\n",
    "startTS = datetime.now()\n",
    "\n",
    "datatable = [extract_features(l) for l in changeChannelLines]\n",
    "\n",
    "print('Extracting features took',  (datetime.now() - startTS).total_seconds(), 'seconds')"
   ]
  },
  {
   "cell_type": "code",
   "execution_count": 37,
   "metadata": {},
   "outputs": [
    {
     "name": "stdout",
     "output_type": "stream",
     "text": [
      "             Timestamp                              User Channel       Event\n",
      "0  2017-01-02 00:00:00  7f98c243497046a086b09a84d68aa0f1  C-0016  E/00904866\n",
      "1  2017-01-02 00:00:01  7d8090b7fd304781a88c77b75207728d  C-0031  E/00904873\n",
      "2  2017-01-02 00:00:02  0c39574d45c245b79e076650fa948229  C-0026  E/00904872\n",
      "3  2017-01-02 00:00:03  d48241d6b352465c939403eb16619753  C-0008  E/00904859\n",
      "4  2017-01-02 00:00:03  3dbaacdba1b849ed9029f69783e15bab  C-0010  E/00904860\n",
      "Process took 0.181558 seconds\n"
     ]
    }
   ],
   "source": [
    "#create a dataframe\n",
    "\n",
    "startTS = datetime.now()\n",
    "\n",
    "df = pd.DataFrame(datatable, columns=['Timestamp', 'User', 'Channel', 'Event'])\n",
    "\n",
    "print('Dataframe Creation took',  (datetime.now() - startTS).total_seconds(), 'seconds')\n",
    "\n",
    "print(df.head(5))\n"
   ]
  },
  {
   "cell_type": "code",
   "execution_count": 43,
   "metadata": {},
   "outputs": [
    {
     "name": "stdout",
     "output_type": "stream",
     "text": [
      "CSV Writting took 3.64728 seconds\n"
     ]
    }
   ],
   "source": [
    "startTS = datetime.now()\n",
    "\n",
    "df.to_csv(dataframeFilename, sep=',', encoding='utf-8', index=False)\n",
    "\n",
    "print('CSV Writting took', (datetime.now() - startTS).total_seconds(), 'seconds')"
   ]
  },
  {
   "cell_type": "code",
   "execution_count": null,
   "metadata": {
    "collapsed": true
   },
   "outputs": [],
   "source": []
  }
 ],
 "metadata": {
  "kernelspec": {
   "display_name": "Python 3",
   "language": "python",
   "name": "python3"
  },
  "language_info": {
   "codemirror_mode": {
    "name": "ipython",
    "version": 3
   },
   "file_extension": ".py",
   "mimetype": "text/x-python",
   "name": "python",
   "nbconvert_exporter": "python",
   "pygments_lexer": "ipython3",
   "version": "3.6.1"
  }
 },
 "nbformat": 4,
 "nbformat_minor": 2
}
