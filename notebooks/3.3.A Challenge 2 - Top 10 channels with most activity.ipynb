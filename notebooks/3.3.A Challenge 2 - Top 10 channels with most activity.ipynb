{
 "cells": [
  {
   "cell_type": "markdown",
   "metadata": {},
   "source": [
    "<br><br>\n",
    "# Challenge 2 - Group\n",
    "\n",
    "analyse data extracted from the log to determine the channel with the most activity\n",
    "\n",
    "Write conclusions to a CSV file\n"
   ]
  },
  {
   "cell_type": "markdown",
   "metadata": {},
   "source": [
    "### Cheat Sheet\n",
    "\n",
    "File Location: will depend on current location\n"
   ]
  },
  {
   "cell_type": "code",
   "execution_count": 4,
   "metadata": {},
   "outputs": [
    {
     "name": "stdout",
     "output_type": "stream",
     "text": [
      "D:\\python_virtualenvs\\src\\pandas_workshop\\dwh\\channel_changes.csv\n"
     ]
    }
   ],
   "source": [
    "#relative paths\n",
    "import os, sys, inspect\n",
    "\n",
    "currentdir = os.path.dirname(os.path.abspath(inspect.getfile(inspect.currentframe())))\n",
    "parentdir  = os.path.dirname(currentdir)\n",
    "\n",
    "rootdir = parentdir # is it?\n",
    "dwhdir = os.path.join(rootdir, 'dwh')\n",
    "channelChangesFile = os.path.join(dwhdir, 'channel_changes.csv')\n",
    "\n",
    "print(channelChangesFile)\n"
   ]
  },
  {
   "cell_type": "markdown",
   "metadata": {},
   "source": [
    "### Create/ Read / Write Dataframe (recap)\n",
    "\n",
    "#### Create a DataFrame from a list\n",
    "\n",
    "```\n",
    "import pandas as pd\n",
    "\n",
    "df = pd.DataFrame([[1,2], [3,4]], columns=['A', 'B'])\n",
    "```\n",
    "\n",
    "#### Write dataframe to CSV\n",
    "\n",
    "```\n",
    "df.to_csv('filename', sep=',', encoding='utf-8', index=False)\n",
    "```\n",
    "\n",
    "#### Reading Dataframe from CSV\n",
    "\n",
    "```\n",
    "df.read_csv('filename', sep=',', encoding='utf-8', header=False, dtypes=[str, str, int, ...])\n",
    "```"
   ]
  },
  {
   "cell_type": "markdown",
   "metadata": {},
   "source": [
    "\n",
    "### Quickly Inspecting Dataframe\n",
    "`df.head(numberOfLines)`\n",
    "\n",
    "`df.tail(numberOfLines)`\n"
   ]
  },
  {
   "cell_type": "markdown",
   "metadata": {
    "collapsed": true
   },
   "source": [
    "### Grouping data in dataframe"
   ]
  },
  {
   "cell_type": "code",
   "execution_count": 2,
   "metadata": {
    "collapsed": true
   },
   "outputs": [],
   "source": [
    "import pandas\n",
    "pandas.DataFrame.group*?"
   ]
  },
  {
   "cell_type": "code",
   "execution_count": 5,
   "metadata": {
    "collapsed": true
   },
   "outputs": [],
   "source": [
    "pandas.DataFrame.groupby?"
   ]
  },
  {
   "cell_type": "code",
   "execution_count": null,
   "metadata": {
    "collapsed": true
   },
   "outputs": [],
   "source": [
    "#this is example code, not meant to be run,...\n",
    "\n",
    "df.groupby(by='colA')\n",
    "df.groupby(by=['colA', 'colB'], sort=False)\n",
    "\n",
    "# and aggregate\n",
    "df.groupby(by=['colA', 'colB'], sort=False).count()\n",
    "\n",
    "df.groupby(by=['colA', 'colB'], sort=False).agg(count, sum, mean)\n",
    "\n",
    "#print the result, it may not be what you actually want...\n",
    "\n",
    "\n"
   ]
  },
  {
   "cell_type": "markdown",
   "metadata": {},
   "source": [
    "## Channel Changes Dataframe sample\n",
    "```\n",
    "I            Timestamp                              User Channel       Event  \n",
    "0  2017-01-02 00:00:00  7f98c243497046a086b09a84d68aa0f1  C-0016  E/00904866\n",
    "```"
   ]
  },
  {
   "cell_type": "markdown",
   "metadata": {},
   "source": [
    "### Column Selection\n",
    "\n",
    "`df = df[['Channel', 'User']]`\n",
    "\n",
    "#### or if you prefer:\n",
    "\n",
    "```\n",
    "cols = ['Channel', 'User']\n",
    "df = df[cols]\n",
    "```\n",
    "\n",
    "### Filtering:\n",
    "\n",
    "```\n",
    "filter = (df.Channel == 'C-0016')\n",
    "c0016_activity = df[filter]\n",
    "\n",
    "# in pandas we use the bitwise operator to compose expressions {&, |, ~}\n",
    "filter = (df.Channel == 'C-0016') & (User == 'me') \n",
    "\n",
    "ChannelWhitelist = ['C-0001', 'C-0002', 'C-0003']\n",
    "filter = df.Channel.isin(ChannelWhitelist) # any listlike thing\n",
    "```"
   ]
  },
  {
   "cell_type": "markdown",
   "metadata": {},
   "source": [
    "## Let's Try it out"
   ]
  },
  {
   "cell_type": "code",
   "execution_count": 14,
   "metadata": {},
   "outputs": [
    {
     "name": "stdout",
     "output_type": "stream",
     "text": [
      "In : D:\\python_virtualenvs\\src\\pandas_workshop\\dwh\\channel_changes.csv\n",
      "             Timestamp                              User Channel       Event\n",
      "0  2017-01-02 00:00:00  7f98c243497046a086b09a84d68aa0f1  C-0016  E/00904866\n",
      "1  2017-01-02 00:00:01  7d8090b7fd304781a88c77b75207728d  C-0031  E/00904873\n",
      "2  2017-01-02 00:00:02  0c39574d45c245b79e076650fa948229  C-0026  E/00904872\n",
      "3  2017-01-02 00:00:03  d48241d6b352465c939403eb16619753  C-0008  E/00904859\n",
      "4  2017-01-02 00:00:03  3dbaacdba1b849ed9029f69783e15bab  C-0010  E/00904860\n"
     ]
    }
   ],
   "source": [
    "#relative paths\n",
    "import os, sys, inspect\n",
    "\n",
    "currentdir = os.path.dirname(os.path.abspath(inspect.getfile(inspect.currentframe())))\n",
    "parentdir  = os.path.dirname(currentdir)\n",
    "\n",
    "rootdir = parentdir # is it?\n",
    "dwhdir = os.path.join(rootdir, 'dwh')\n",
    "\n",
    "channelChangesFilename = os.path.join(dwhdir, 'channel_changes.csv')\n",
    "\n",
    "print('In :', channelChangesFilename)\n",
    "\n",
    "import pandas as pd\n",
    "\n",
    "df = pd.read_csv(channelChangesFilename)\n",
    "print (df.head())"
   ]
  },
  {
   "cell_type": "code",
   "execution_count": 19,
   "metadata": {},
   "outputs": [
    {
     "name": "stdout",
     "output_type": "stream",
     "text": [
      "(998971, 4)\n",
      "(91501, 4)\n",
      "              Timestamp                              User Channel       Event\n",
      "0   2017-01-02 00:00:00  7f98c243497046a086b09a84d68aa0f1  C-0016  E/00904866\n",
      "6   2017-01-02 00:00:05  5c1c0f6ca7b74bf4b2b1afbd3dbee764  C-0016  E/00904866\n",
      "30  2017-01-02 00:00:21  7aa1479e6c514ceda1be920dd95beea7  C-0016  E/00904866\n",
      "50  2017-01-02 00:00:35  8245f7a2a9154f60a681bc2af7644ce2  C-0016  E/00904866\n",
      "56  2017-01-02 00:00:41  d4ebb2abc6c44fae8c4be02bcaef5bcf  C-0016  E/00904866\n"
     ]
    }
   ],
   "source": [
    "print (df.shape)\n",
    "\n",
    "f1 = df[ df.Channel == 'C-0016' ]\n",
    "\n",
    "print (f1.shape)\n",
    "print (f1.head())"
   ]
  },
  {
   "cell_type": "code",
   "execution_count": 22,
   "metadata": {},
   "outputs": [
    {
     "name": "stdout",
     "output_type": "stream",
     "text": [
      "(175821, 4)\n",
      "              Timestamp                              User Channel       Event\n",
      "0   2017-01-02 00:00:00  7f98c243497046a086b09a84d68aa0f1  C-0016  E/00904866\n",
      "1   2017-01-02 00:00:01  7d8090b7fd304781a88c77b75207728d  C-0031  E/00904873\n",
      "2   2017-01-02 00:00:02  0c39574d45c245b79e076650fa948229  C-0026  E/00904872\n",
      "6   2017-01-02 00:00:05  5c1c0f6ca7b74bf4b2b1afbd3dbee764  C-0016  E/00904866\n",
      "12  2017-01-02 00:00:09  2587d539c6f34402a6b369a37800a4f3  C-0026  E/00904872\n"
     ]
    }
   ],
   "source": [
    "\n",
    "ChannelWhitelist = ['C-0016', 'C-0031', 'C-0026']\n",
    "filterChannel = df.Channel.isin(ChannelWhitelist)\n",
    "c1_to_3 = df[filterChannel]\n",
    "\n",
    "print (c1_to_3.shape)\n",
    "print (c1_to_3.head())"
   ]
  },
  {
   "cell_type": "code",
   "execution_count": null,
   "metadata": {
    "collapsed": true
   },
   "outputs": [],
   "source": []
  }
 ],
 "metadata": {
  "kernelspec": {
   "display_name": "Python 3",
   "language": "python",
   "name": "python3"
  },
  "language_info": {
   "codemirror_mode": {
    "name": "ipython",
    "version": 3
   },
   "file_extension": ".py",
   "mimetype": "text/x-python",
   "name": "python",
   "nbconvert_exporter": "python",
   "pygments_lexer": "ipython3",
   "version": "3.6.1"
  }
 },
 "nbformat": 4,
 "nbformat_minor": 2
}
