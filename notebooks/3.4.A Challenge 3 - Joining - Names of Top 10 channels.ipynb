{
 "cells": [
  {
   "cell_type": "markdown",
   "metadata": {},
   "source": [
    "<br><br>\n",
    "# Challenge 3 - Join\n",
    "\n",
    "Get the file with the Top Channels and derive their names\n",
    "\n",
    "Write conclusions to a CSV file\n"
   ]
  },
  {
   "cell_type": "markdown",
   "metadata": {},
   "source": [
    "### Cheat Sheet\n",
    "\n",
    "File Location: will depend on current location\n"
   ]
  },
  {
   "cell_type": "code",
   "execution_count": 30,
   "metadata": {},
   "outputs": [
    {
     "name": "stdout",
     "output_type": "stream",
     "text": [
      "D:\\python_virtualenvs\\src\\pandas_workshop\\dwh\\channel_changes_count.csv\n",
      "D:\\python_virtualenvs\\src\\pandas_workshop\\dwh\\channels.csv\n"
     ]
    }
   ],
   "source": [
    "#relative paths\n",
    "import os, sys, inspect\n",
    "\n",
    "currentdir = os.path.dirname(os.path.abspath(inspect.getfile(inspect.currentframe())))\n",
    "parentdir  = os.path.dirname(currentdir)\n",
    "\n",
    "rootdir = parentdir # is it?\n",
    "dwhdir = os.path.join(rootdir, 'dwh')\n",
    "channelChangesCountFilename = os.path.join(dwhdir, 'channel_changes_count.csv')\n",
    "channelRefFilename          = os.path.join(dwhdir, 'channels.csv')\n",
    "\n",
    "print(channelChangesCountFilename)\n",
    "print(channelRefFilename)"
   ]
  },
  {
   "cell_type": "markdown",
   "metadata": {},
   "source": [
    "### Create/ Read / Write Dataframe (recap)\n",
    "\n",
    "#### Create a DataFrame from a list\n",
    "\n",
    "```\n",
    "import pandas as pd\n",
    "\n",
    "df = pd.DataFrame([[1,2], [3,4]], columns=['A', 'B'])\n",
    "```\n",
    "\n",
    "#### Write dataframe to CSV\n",
    "\n",
    "```\n",
    "df.to_csv('filename', sep=',', encoding='utf-8', index=False)\n",
    "```\n",
    "\n",
    "#### Reading Dataframe from CSV\n",
    "\n",
    "```\n",
    "df.read_csv('filename', sep=',', encoding='utf-8', header=False, dtypes=[str, str, int, ...])\n",
    "```"
   ]
  },
  {
   "cell_type": "markdown",
   "metadata": {},
   "source": [
    "\n",
    "### Quickly Inspecting Dataframe\n",
    "`df.head(numberOfLines)`\n",
    "\n",
    "`df.tail(numberOfLines)`\n"
   ]
  },
  {
   "cell_type": "markdown",
   "metadata": {
    "collapsed": true
   },
   "source": [
    "### Joining Dataframe\n"
   ]
  },
  {
   "cell_type": "code",
   "execution_count": 31,
   "metadata": {
    "collapsed": true
   },
   "outputs": [],
   "source": [
    "import pandas\n",
    "\n"
   ]
  },
  {
   "cell_type": "code",
   "execution_count": 32,
   "metadata": {
    "collapsed": true
   },
   "outputs": [],
   "source": [
    "pandas.DataFrame.merge*?"
   ]
  },
  {
   "cell_type": "code",
   "execution_count": 33,
   "metadata": {
    "collapsed": true
   },
   "outputs": [],
   "source": [
    "pandas.DataFrame.join*?"
   ]
  },
  {
   "cell_type": "code",
   "execution_count": 34,
   "metadata": {
    "collapsed": true
   },
   "outputs": [],
   "source": [
    "# dfC = dfA.join(dfB, col) assumes both columns exist on same dataframe, or joins by index\n",
    "pandas.DataFrame.join?"
   ]
  },
  {
   "cell_type": "code",
   "execution_count": 35,
   "metadata": {
    "collapsed": true
   },
   "outputs": [],
   "source": [
    "#dfc = dfa.merge(dfB, how=inner|outer|left|right on=Columns left_on=LeftCol, right_on=rightCol) ... <- more powerful\n",
    "pandas.DataFrame.merge?"
   ]
  },
  {
   "cell_type": "markdown",
   "metadata": {},
   "source": [
    "## Top Channel Changes Dataframe sample\n",
    "```\n",
    "I  Channel  Count  \n",
    "0  C-0016   22111\n",
    "```"
   ]
  },
  {
   "cell_type": "markdown",
   "metadata": {},
   "source": [
    "## Channel RefData Dataframe sample\n",
    "```\n",
    "I  Channel  Position Definition Abbrev                                        Name\n",
    "0  C-0008         2         HD  AUZVI  Ageless Underwater Zapped Ves Irritability\n",
    "```"
   ]
  },
  {
   "cell_type": "code",
   "execution_count": null,
   "metadata": {
    "collapsed": true
   },
   "outputs": [],
   "source": []
  }
 ],
 "metadata": {
  "kernelspec": {
   "display_name": "Python 3",
   "language": "python",
   "name": "python3"
  },
  "language_info": {
   "codemirror_mode": {
    "name": "ipython",
    "version": 3
   },
   "file_extension": ".py",
   "mimetype": "text/x-python",
   "name": "python",
   "nbconvert_exporter": "python",
   "pygments_lexer": "ipython3",
   "version": "3.6.1"
  }
 },
 "nbformat": 4,
 "nbformat_minor": 2
}
