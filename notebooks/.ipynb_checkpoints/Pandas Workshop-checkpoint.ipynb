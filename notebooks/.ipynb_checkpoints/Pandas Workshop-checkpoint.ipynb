{
 "cells": [
  {
   "cell_type": "markdown",
   "metadata": {},
   "source": [
    "# Before we start...\n",
    "\n",
    "Download [Github Link Here]\n",
    "\n",
    "it will be needed later to create a random log file so we can begin playing with data..."
   ]
  },
  {
   "cell_type": "markdown",
   "metadata": {},
   "source": [
    "# Setup (debian)\n",
    "\n",
    "# install latest python (3.6), pip3 and virtalenv\n",
    "\n",
    "```\n",
    "sudo apt-get install python3 python3.6 python3-pip\n",
    "sudo pip3 install --upgrade pip\n",
    "sudo pip3 install virtualenv\n",
    "```\n",
    "\n"
   ]
  },
  {
   "cell_type": "markdown",
   "metadata": {},
   "source": [
    "# Create a project and an environment \n",
    "\n",
    "###### (paths are up to you)\n",
    "\n",
    "```\n",
    "cd <project_dir>\n",
    "mkdir <env>\n",
    "virtualenv -p /usr/bin/python3.6 <env>\n",
    "```\n",
    "\n",
    "e.g.\n",
    "```\n",
    "    project_dir = 'pandas_workshop'\n",
    "    env = 'pandas_workshop_env'\n",
    "```\n",
    "\n"
   ]
  },
  {
   "cell_type": "markdown",
   "metadata": {},
   "source": [
    "# Activate the environment\n",
    "\n",
    "```\n",
    "source <env>/bin/activate\n",
    "```\n",
    "\n",
    "###### You just entered in your environment\n",
    "\n",
    "Now packages you install will be just for this environment.\n",
    "Also pip and python will refer to the version you declared with virtualenv.\n",
    "\n",
    "## check it!\n",
    "\n",
    "pip -V\n",
    "\n"
   ]
  },
  {
   "cell_type": "markdown",
   "metadata": {},
   "source": [
    "# install and run python notebooks\n",
    "```\n",
    "pip install jupyter\n",
    "mkdir notebooks\n",
    "jupyter notebook --port 9999 --notebook-dir=notebooks [--no-browser]\n",
    "```\n",
    "\n",
    "You should now have an interactive online coding session, essential for experimentation.\n",
    "\n"
   ]
  },
  {
   "cell_type": "markdown",
   "metadata": {},
   "source": [
    "# Install libs for this workshop\n",
    "```\n",
    "pip install numpy pandas dask\n",
    "```"
   ]
  },
  {
   "cell_type": "markdown",
   "metadata": {},
   "source": [
    "# Get familiar with python notebooks\n",
    "\n",
    "- create a new python 3 notebook\n",
    "- experiment a bit running some python commands\n",
    "- give a name to the notebook\n",
    "- save it\n",
    "- create cells with different variables\n",
    "- cells can be run in any order, but usually executed in sequence\n"
   ]
  },
  {
   "cell_type": "code",
   "execution_count": 5,
   "metadata": {},
   "outputs": [],
   "source": [
    "import time\n",
    "time.sleep(0.5)"
   ]
  },
  {
   "cell_type": "code",
   "execution_count": 8,
   "metadata": {},
   "outputs": [
    {
     "name": "stdout",
     "output_type": "stream",
     "text": [
      "100 ms ± 14.2 µs per loop (mean ± std. dev. of 7 runs, 10 loops each)\n"
     ]
    }
   ],
   "source": [
    "%timeit time.sleep(0.1)"
   ]
  },
  {
   "cell_type": "code",
   "execution_count": 7,
   "metadata": {},
   "outputs": [
    {
     "name": "stdout",
     "output_type": "stream",
     "text": [
      "501 ms ± 18 µs per loop (mean ± std. dev. of 7 runs, 1 loop each)\n"
     ]
    }
   ],
   "source": [
    "%%timeit\n",
    "time.sleep(0.5)"
   ]
  },
  {
   "cell_type": "code",
   "execution_count": null,
   "metadata": {
    "collapsed": true
   },
   "outputs": [],
   "source": []
  }
 ],
 "metadata": {
  "kernelspec": {
   "display_name": "Python 3",
   "language": "python",
   "name": "python3"
  },
  "language_info": {
   "codemirror_mode": {
    "name": "ipython",
    "version": 3
   },
   "file_extension": ".py",
   "mimetype": "text/x-python",
   "name": "python",
   "nbconvert_exporter": "python",
   "pygments_lexer": "ipython3",
   "version": "3.5.2"
  }
 },
 "nbformat": 4,
 "nbformat_minor": 2
}
