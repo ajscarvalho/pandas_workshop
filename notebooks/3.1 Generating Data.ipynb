{
 "cells": [
  {
   "cell_type": "markdown",
   "metadata": {},
   "source": [
    "# Generating Data\n",
    "\n",
    "Let's get going...\n",
    "\n",
    "We start with no data, but let's generate some fake data..."
   ]
  },
  {
   "cell_type": "markdown",
   "metadata": {},
   "source": [
    "As I'm currently working at NOS, let's generate some random EPG Data, and then a fake Activity Log"
   ]
  },
  {
   "cell_type": "markdown",
   "metadata": {},
   "source": [
    "with your active environment, run the following scripts in bin/\n",
    "\n",
    "```   \n",
    "python bin/channel_generator.py -s channelCount   # generates channels                     [default     100   records]\n",
    "python bin/customer_base_generator.py -s users    # generates user base                    [default   10K     records]\n",
    "python bin/epg_program_generator.py -s programs   # generates program metadata             [default   10K     records]\n",
    "python bin/epg_event_generator.py -s days         # generates epg grid (for each Channel)  [default      10      days]\n",
    "python bin/log_generator.py -r rubbishPct -s size # generates an activity log with noise   [default 3M        records] \n",
    "                                                                                           [default      50 % rubbish]\n",
    "```\n",
    "\n",
    "This will create files on the dwh directory inside the project folder.\n",
    "\n",
    "The last script takes about 5 minutes to run and generates a ~600MB File, so reduce the size, if you wish, depending on your machine\n",
    "... and don't forget to erase the files"
   ]
  },
  {
   "cell_type": "code",
   "execution_count": null,
   "metadata": {
    "collapsed": true
   },
   "outputs": [],
   "source": []
  }
 ],
 "metadata": {
  "kernelspec": {
   "display_name": "Python 3",
   "language": "python",
   "name": "python3"
  },
  "language_info": {
   "codemirror_mode": {
    "name": "ipython",
    "version": 3
   },
   "file_extension": ".py",
   "mimetype": "text/x-python",
   "name": "python",
   "nbconvert_exporter": "python",
   "pygments_lexer": "ipython3",
   "version": "3.6.1"
  }
 },
 "nbformat": 4,
 "nbformat_minor": 2
}
